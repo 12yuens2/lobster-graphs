{
 "cells": [
  {
   "cell_type": "code",
   "execution_count": 104,
   "metadata": {
    "collapsed": false
   },
   "outputs": [],
   "source": [
    "import networkx as nx\n",
    "import pygraphviz as pgv\n",
    "import matplotlib.pyplot as plt"
   ]
  },
  {
   "cell_type": "code",
   "execution_count": 105,
   "metadata": {
    "collapsed": false
   },
   "outputs": [
    {
     "name": "stdout",
     "output_type": "stream",
     "text": [
      "<pygraphviz.agraph.Attribute object at 0x7f6276030fd0>\n"
     ]
    }
   ],
   "source": [
    "G = pgv.AGraph()\n",
    "nlist = \"A B C D E\".split()\n",
    "a, b = \"A A B\", \"B C D\"\n",
    "elist = zip(a.split(), b.split())\n",
    "\n",
    "G.add_nodes_from(nlist)\n",
    "G.add_edges_from(elist)\n",
    "G.node_attr.update(color=\"red\", style=\"filled\")\n",
    "G.edge_attr.update(color=\"blue\", len=\"1.0\", width=\"2.0\")\n",
    "\n",
    "print(G.edge_attr)\n",
    "# returns {'color': 'red', 'width': '', 'len': '2.0'}\n",
    "\n",
    "# add new edge with custom length (all others have length=2.0):\n",
    "G.add_edge(\"C\", \"E\", len=\"6.0\", color=\"blue\", width=\"2.0\")"
   ]
  },
  {
   "cell_type": "code",
   "execution_count": 106,
   "metadata": {
    "collapsed": true
   },
   "outputs": [],
   "source": [
    "G.draw(\"test.png\", format='png', prog='neato')"
   ]
  },
  {
   "cell_type": "code",
   "execution_count": 107,
   "metadata": {
    "collapsed": true
   },
   "outputs": [],
   "source": [
    "edges = [(1, 2, 1), (2, 3, 2), (3, 4, 1), (1, 3, 2)]\n",
    "\n",
    "G = nx.Graph()\n",
    "\n",
    "for start, end, length in edges:\n",
    "    # You can attach any attributes you want when adding the edge\n",
    "    G.add_edge(start, end, len=length)\n"
   ]
  },
  {
   "cell_type": "code",
   "execution_count": 108,
   "metadata": {
    "collapsed": false
   },
   "outputs": [
    {
     "data": {
      "text/plain": [
       "{1: array([ 0.47632508,  0.48921953]),\n",
       " 2: array([ 0.66248934, -0.16531546]),\n",
       " 3: array([-0.13881442, -0.0394819 ]),\n",
       " 4: array([-1.        , -0.28442216])}"
      ]
     },
     "execution_count": 108,
     "metadata": {},
     "output_type": "execute_result"
    }
   ],
   "source": [
    "nx.spring_layout(G, weight='length')"
   ]
  },
  {
   "cell_type": "code",
   "execution_count": 109,
   "metadata": {
    "collapsed": false
   },
   "outputs": [],
   "source": [
    "nx.draw(G, prog='neato')\n",
    "plt.show()"
   ]
  },
  {
   "cell_type": "code",
   "execution_count": null,
   "metadata": {
    "collapsed": true
   },
   "outputs": [],
   "source": []
  },
  {
   "cell_type": "code",
   "execution_count": 135,
   "metadata": {
    "collapsed": true
   },
   "outputs": [],
   "source": [
    "G = pgv.AGraph()"
   ]
  },
  {
   "cell_type": "code",
   "execution_count": 136,
   "metadata": {
    "collapsed": true
   },
   "outputs": [],
   "source": [
    "G.add_node('a')"
   ]
  },
  {
   "cell_type": "code",
   "execution_count": 137,
   "metadata": {
    "collapsed": true
   },
   "outputs": [],
   "source": [
    "G.add_edge('a', 'c')\n",
    "G.add_edge('c','d')"
   ]
  },
  {
   "cell_type": "code",
   "execution_count": 138,
   "metadata": {
    "collapsed": true
   },
   "outputs": [],
   "source": [
    "G.get_edge('a','c').attr['len'] = '2.0'\n",
    "G.get_edge('c','d').attr['len'] = '11.0'"
   ]
  },
  {
   "cell_type": "code",
   "execution_count": 139,
   "metadata": {
    "collapsed": true
   },
   "outputs": [],
   "source": [
    "G.draw(\"g1.png\", format='png', prog='neato')"
   ]
  },
  {
   "cell_type": "code",
   "execution_count": null,
   "metadata": {
    "collapsed": true
   },
   "outputs": [],
   "source": []
  },
  {
   "cell_type": "code",
   "execution_count": 140,
   "metadata": {
    "collapsed": true
   },
   "outputs": [],
   "source": [
    "G2 = pgv.AGraph()\n",
    "\n",
    "G2.add_edge('a','c')\n",
    "G2.add_edge('c','d')\n",
    "\n",
    "G2.get_edge('a','c').attr['len'] = '2.0'\n",
    "G2.get_edge('c','d').attr['len'] = '2.0'"
   ]
  },
  {
   "cell_type": "code",
   "execution_count": 141,
   "metadata": {
    "collapsed": true
   },
   "outputs": [],
   "source": [
    "G2.draw(\"g2.png\", prog='neato')"
   ]
  },
  {
   "cell_type": "code",
   "execution_count": 142,
   "metadata": {
    "collapsed": true
   },
   "outputs": [],
   "source": [
    "def select_k(spectrum, minimum_energy = 0.9):\n",
    "    running_total = 0.0\n",
    "    total = sum(spectrum)\n",
    "    if total == 0.0:\n",
    "        return len(spectrum)\n",
    "    for i in range(len(spectrum)):\n",
    "        running_total += spectrum[i]\n",
    "        if running_total / total >= minimum_energy:\n",
    "            return i + 1\n",
    "    return len(spectrum)"
   ]
  },
  {
   "cell_type": "code",
   "execution_count": 143,
   "metadata": {
    "collapsed": false
   },
   "outputs": [],
   "source": [
    "lap1 = nx.spectrum.laplacian_spectrum(nx.drawing.nx_agraph.from_agraph(G))"
   ]
  },
  {
   "cell_type": "code",
   "execution_count": 144,
   "metadata": {
    "collapsed": false
   },
   "outputs": [],
   "source": [
    "lap2 = nx.spectrum.laplacian_spectrum(nx.drawing.nx_agraph.from_agraph(G2))"
   ]
  },
  {
   "cell_type": "code",
   "execution_count": 145,
   "metadata": {
    "collapsed": false
   },
   "outputs": [
    {
     "name": "stdout",
     "output_type": "stream",
     "text": [
      "[  3.92505363e-17   1.00000000e+00   3.00000000e+00]\n",
      "[  3.92505363e-17   1.00000000e+00   3.00000000e+00]\n"
     ]
    }
   ],
   "source": [
    "print(lap1)\n",
    "print(lap2)"
   ]
  },
  {
   "cell_type": "code",
   "execution_count": 146,
   "metadata": {
    "collapsed": false
   },
   "outputs": [
    {
     "name": "stdout",
     "output_type": "stream",
     "text": [
      "3\n",
      "3\n"
     ]
    }
   ],
   "source": [
    "k1 = select_k(lap1)\n",
    "k2 = select_k(lap2)\n",
    "k = min(k1, k2)\n",
    "\n",
    "print(k1)\n",
    "print(k2)\n",
    "\n",
    "similarity = sum((lap1[:k] - lap1[:k])**2)"
   ]
  },
  {
   "cell_type": "code",
   "execution_count": 122,
   "metadata": {
    "collapsed": false
   },
   "outputs": [
    {
     "name": "stdout",
     "output_type": "stream",
     "text": [
      "0.0\n"
     ]
    }
   ],
   "source": [
    "print(similarity)"
   ]
  },
  {
   "cell_type": "code",
   "execution_count": 123,
   "metadata": {
    "collapsed": false
   },
   "outputs": [],
   "source": [
    "# From https://github.com/hhchen1105/networkx_addon/blob/master/similarity/simrank.py\n",
    "\n",
    "\"\"\"\n",
    "Implement SimRank similarity\n",
    "\"\"\"\n",
    "#    Copyright (C) 2004-2010 by\n",
    "#    Hung-Hsuan Chen <hhchen@psu.edu>\n",
    "#    All rights reserved.\n",
    "#    BSD license.\n",
    "#    NetworkX:http://networkx.lanl.gov/.\n",
    "import copy\n",
    "import sys\n",
    "import networkx as nx\n",
    "from collections import defaultdict\n",
    "__author__ = \"\"\"Hung-Hsuan Chen (hhchen@psu.edu)\"\"\"\n",
    "__all__ = ['simrank']\n",
    "\n",
    "def simrank(G, c=0.9, max_iter=100, remove_neighbors=False, remove_self=False, dump_process=False):\n",
    "  \"\"\"Return the SimRank similarity between nodes\n",
    "  Parameters\n",
    "  -----------\n",
    "  G : graph\n",
    "    A NetworkX graph\n",
    "  c : float, 0 < c <= 1\n",
    "    The number represents the relative importance between in-direct neighbors\n",
    "    and direct neighbors\n",
    "  max_iter : integer\n",
    "    The number specifies the maximum number of iterations for simrank\n",
    "    calculation\n",
    "  remove_neighbors: boolean\n",
    "    if true, the similarity value between neighbor nodes is set to zero\n",
    "  remove_self : boolean\n",
    "    if true, the similarity value between a node and itself is set to zero\n",
    "  dump_process: boolean\n",
    "    if true, the calculation process is dumped\n",
    "  Returns\n",
    "  -------\n",
    "  simrank: dictionary of dictionary of double\n",
    "    if simrank[i][j] = k, this means the SimRank similarity\n",
    "    between node i and node j is k\n",
    "  Examples\n",
    "  --------\n",
    "  >>> G=nx.Graph()\n",
    "  >>> G.add_edges_from([(0,7), (0,1), (0,2), (0,3), (1,4), (2,4), (3,4), (4,5), (4,6)])\n",
    "  >>> networkx_addon.similarity.simrank(G)\n",
    "  Notes\n",
    "  -----\n",
    "  References\n",
    "  ----------\n",
    "  [1] G. Jeh and J. Widom.\n",
    "  SimRank: a measure of structural-context similarity.\n",
    "  In KDD'02 pages 538-543. ACM Press, 2002.\n",
    "  \"\"\"\n",
    "  if type(G) == nx.MultiGraph or type(G) == nx.MultiDiGraph:\n",
    "    raise Exception(\"simrank() not defined for graphs with multiedges.\")\n",
    "\n",
    "  if G.is_directed():\n",
    "    raise Exception(\"simrank() not defined for directed graphs.\")\n",
    "\n",
    "  sim_old = defaultdict(list)\n",
    "  sim = defaultdict(list)\n",
    "  for n in G.nodes():\n",
    "    sim[n] = defaultdict(int)\n",
    "    sim[n][n] = 1\n",
    "    sim_old[n] = defaultdict(int)\n",
    "    sim_old[n][n] = 0\n",
    "\n",
    "  # calculate simrank\n",
    "  for iter_ctr in range(max_iter):\n",
    "    if _is_converge(sim, sim_old):\n",
    "      break\n",
    "    sim_old = copy.deepcopy(sim)\n",
    "    for i, u in enumerate(G.nodes()):\n",
    "      if dump_process:\n",
    "        sys.stdout.write(\"\\r%d : % d / %d\" % (iter_ctr, i, G.number_of_nodes()))\n",
    "      for v in G.nodes():\n",
    "        if u == v:\n",
    "          continue\n",
    "        s_uv = 0.0\n",
    "        for n_u in G.neighbors(u):\n",
    "          for n_v in G.neighbors(v):\n",
    "            s_uv += sim_old[n_u][n_v]\n",
    "        \n",
    "        len_u = sum(1 for _ in G.neighbors(u))\n",
    "        len_v = sum(1 for _ in G.neighbors(v))\n",
    "        \n",
    "        sim[u][v] = (c * s_uv / (len_u * len_v)) \\\n",
    "            if len_u * len_v > 0 else 0\n",
    "    if dump_process:\n",
    "      print(\"\")\n",
    "\n",
    "  if remove_self:\n",
    "    for m in G.nodes():\n",
    "      G[m][m] = 0\n",
    "\n",
    "  if remove_neighbors:\n",
    "    for m in G.nodes():\n",
    "      for n in G.neighbors(m):\n",
    "        sim[m][n] = 0\n",
    "\n",
    "  return sim\n",
    "\n",
    "def _is_converge(s1, s2, eps=1e-4):\n",
    "  for i in s1.keys():\n",
    "    for j in s1[i].keys():\n",
    "      if abs(s1[i][j] - s2[i][j]) >= eps:\n",
    "        return False\n",
    "  return True"
   ]
  },
  {
   "cell_type": "code",
   "execution_count": 124,
   "metadata": {
    "collapsed": false
   },
   "outputs": [],
   "source": [
    "s1 = simrank(nx.drawing.nx_agraph.from_agraph(G))\n",
    "s2 = simrank(nx.drawing.nx_agraph.from_agraph(G2))"
   ]
  },
  {
   "cell_type": "code",
   "execution_count": 125,
   "metadata": {
    "collapsed": false
   },
   "outputs": [
    {
     "name": "stdout",
     "output_type": "stream",
     "text": [
      "defaultdict(<class 'int'>, {'d': 1, 'c': 0.0, 'a': 0.9})\n",
      "defaultdict(<class 'int'>, {'d': 0.0, 'c': 1, 'a': 0.0})\n",
      "defaultdict(<class 'int'>, {'d': 0.9, 'c': 0.0, 'a': 1})\n"
     ]
    }
   ],
   "source": [
    "for index in s1:\n",
    "    print(s1[index])"
   ]
  },
  {
   "cell_type": "code",
   "execution_count": 126,
   "metadata": {
    "collapsed": false
   },
   "outputs": [
    {
     "name": "stdout",
     "output_type": "stream",
     "text": [
      "defaultdict(<class 'int'>, {'d': 1, 'c': 0.0, 'a': 0.9})\n",
      "defaultdict(<class 'int'>, {'d': 0.0, 'c': 1, 'a': 0.0})\n",
      "defaultdict(<class 'int'>, {'d': 0.9, 'c': 0.0, 'a': 1})\n"
     ]
    }
   ],
   "source": [
    "for index in s2:\n",
    "    print(s2[index])"
   ]
  },
  {
   "cell_type": "code",
   "execution_count": 127,
   "metadata": {
    "collapsed": true
   },
   "outputs": [],
   "source": [
    "import graphsim as gs\n",
    "import numpy as np"
   ]
  },
  {
   "cell_type": "code",
   "execution_count": 128,
   "metadata": {
    "collapsed": true
   },
   "outputs": [],
   "source": [
    "nxG = nx.drawing.nx_agraph.from_agraph(G)"
   ]
  },
  {
   "cell_type": "code",
   "execution_count": 129,
   "metadata": {
    "collapsed": false
   },
   "outputs": [
    {
     "data": {
      "text/plain": [
       "(NodeView(('d', 'c', 'a')), array([[ 1.        ,  0.9       ,  0.68059145],\n",
       "        [ 0.75626615,  1.        ,  0.75626615],\n",
       "        [ 0.68059145,  0.9       ,  1.        ]]))"
      ]
     },
     "execution_count": 129,
     "metadata": {},
     "output_type": "execute_result"
    }
   ],
   "source": [
    "gs.ascos(nxG)"
   ]
  },
  {
   "cell_type": "code",
   "execution_count": 130,
   "metadata": {
    "collapsed": true
   },
   "outputs": [],
   "source": [
    "V = 3 # number of nodes\n",
    "D = 2 # dimensionality\n",
    "\n",
    "positions = np.random.rand(V, D)\n",
    "differences = positions[:, None, :] - positions[None, :, :]\n",
    "distances = np.sqrt(np.sum(differences**2, axis=-1)) # euclidean"
   ]
  },
  {
   "cell_type": "code",
   "execution_count": 131,
   "metadata": {
    "collapsed": false
   },
   "outputs": [
    {
     "name": "stdout",
     "output_type": "stream",
     "text": [
      "[[ 0.          0.58069567  0.90326913]\n",
      " [ 0.58069567  0.          0.33508027]\n",
      " [ 0.90326913  0.33508027  0.        ]]\n"
     ]
    }
   ],
   "source": [
    "print(distances)"
   ]
  },
  {
   "cell_type": "code",
   "execution_count": 132,
   "metadata": {
    "collapsed": true
   },
   "outputs": [],
   "source": [
    "graph = nx.from_numpy_matrix(distances, create_using=nx.DiGraph())"
   ]
  },
  {
   "cell_type": "code",
   "execution_count": 133,
   "metadata": {
    "collapsed": false
   },
   "outputs": [],
   "source": [
    "nx.draw(graph)"
   ]
  },
  {
   "cell_type": "code",
   "execution_count": 134,
   "metadata": {
    "collapsed": false
   },
   "outputs": [],
   "source": [
    "plt.show()"
   ]
  },
  {
   "cell_type": "code",
   "execution_count": null,
   "metadata": {
    "collapsed": true
   },
   "outputs": [],
   "source": []
  }
 ],
 "metadata": {
  "kernelspec": {
   "display_name": "Python 3",
   "language": "python",
   "name": "python3"
  },
  "language_info": {
   "codemirror_mode": {
    "name": "ipython",
    "version": 3
   },
   "file_extension": ".py",
   "mimetype": "text/x-python",
   "name": "python",
   "nbconvert_exporter": "python",
   "pygments_lexer": "ipython3",
   "version": "3.5.4"
  }
 },
 "nbformat": 4,
 "nbformat_minor": 2
}
