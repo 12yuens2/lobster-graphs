{
 "cells": [
  {
   "cell_type": "code",
   "execution_count": 1,
   "metadata": {},
   "outputs": [],
   "source": [
    "import networkx as nx\n",
    "import pygraphviz as pgv\n",
    "import matplotlib.pyplot as plt"
   ]
  },
  {
   "cell_type": "code",
   "execution_count": 2,
   "metadata": {},
   "outputs": [
    {
     "name": "stdout",
     "output_type": "stream",
     "text": [
      "<pygraphviz.agraph.Attribute object at 0x109ba32e8>\n"
     ]
    }
   ],
   "source": [
    "G = pgv.AGraph()\n",
    "nlist = \"A B C D E\".split()\n",
    "a, b = \"A A B\", \"B C D\"\n",
    "elist = zip(a.split(), b.split())\n",
    "\n",
    "G.add_nodes_from(nlist)\n",
    "G.add_edges_from(elist)\n",
    "G.node_attr.update(color=\"red\", style=\"filled\")\n",
    "G.edge_attr.update(color=\"blue\", len=\"1.0\", width=\"2.0\")\n",
    "\n",
    "print(G.edge_attr)\n",
    "# returns {'color': 'red', 'width': '', 'len': '2.0'}\n",
    "\n",
    "# add new edge with custom length (all others have length=2.0):\n",
    "G.add_edge(\"C\", \"E\", len=\"6.0\", color=\"blue\", width=\"2.0\")"
   ]
  },
  {
   "cell_type": "code",
   "execution_count": 3,
   "metadata": {},
   "outputs": [],
   "source": [
    "G.draw(\"test.png\", format='png', prog='neato')"
   ]
  },
  {
   "cell_type": "code",
   "execution_count": 4,
   "metadata": {},
   "outputs": [],
   "source": [
    "edges = [(1, 2, 1), (2, 3, 2), (3, 4, 1), (1, 3, 2)]\n",
    "\n",
    "G = nx.Graph()\n",
    "\n",
    "for start, end, length in edges:\n",
    "    # You can attach any attributes you want when adding the edge\n",
    "    G.add_edge(start, end, len=length)\n"
   ]
  },
  {
   "cell_type": "code",
   "execution_count": 5,
   "metadata": {},
   "outputs": [
    {
     "data": {
      "text/plain": [
       "{1: array([ 0.56887116, -0.43169896]),\n",
       " 2: array([-0.08452119, -0.70910833]),\n",
       " 3: array([-0.05978226,  0.14080729]),\n",
       " 4: array([-0.42456772,  1.        ])}"
      ]
     },
     "execution_count": 5,
     "metadata": {},
     "output_type": "execute_result"
    }
   ],
   "source": [
    "nx.spring_layout(G, weight='length')"
   ]
  },
  {
   "cell_type": "code",
   "execution_count": 6,
   "metadata": {},
   "outputs": [
    {
     "data": {
      "image/png": "[encoded data removed]",
      "text/plain": [
       "<matplotlib.figure.Figure at 0x109b8fef0>"
      ]
     },
     "metadata": {},
     "output_type": "display_data"
    }
   ],
   "source": [
    "nx.draw(G, prog='neato')\n",
    "plt.show()"
   ]
  },
  {
   "cell_type": "code",
   "execution_count": null,
   "metadata": {},
   "outputs": [],
   "source": []
  },
  {
   "cell_type": "code",
   "execution_count": 7,
   "metadata": {},
   "outputs": [],
   "source": [
    "G = pgv.AGraph()"
   ]
  },
  {
   "cell_type": "code",
   "execution_count": 8,
   "metadata": {},
   "outputs": [],
   "source": [
    "G.add_node('a')\n",
    "G.add_node('b')"
   ]
  },
  {
   "cell_type": "code",
   "execution_count": 9,
   "metadata": {},
   "outputs": [],
   "source": [
    "G.add_edge('a', 'c')\n",
    "G.add_edge('c','d')"
   ]
  },
  {
   "cell_type": "code",
   "execution_count": 10,
   "metadata": {},
   "outputs": [],
   "source": [
    "G.get_edge('a','c').attr['len'] = '2.0'\n",
    "G.get_edge('c','d').attr['len'] = '5.0'"
   ]
  },
  {
   "cell_type": "code",
   "execution_count": 11,
   "metadata": {},
   "outputs": [],
   "source": [
    "G.draw(\"test.png\", format='png', prog='neato')"
   ]
  },
  {
   "cell_type": "code",
   "execution_count": null,
   "metadata": {},
   "outputs": [],
   "source": []
  },
  {
   "cell_type": "code",
   "execution_count": 31,
   "metadata": {},
   "outputs": [],
   "source": [
    "G2 = pgv.AGraph()\n",
    "\n",
    "G2.add_edge('a','c')\n",
    "G2.add_edge('c','d')\n",
    "\n",
    "G2.get_edge('a','c').attr['len'] = '2.0'\n",
    "G2.get_edge('c','d').attr['len'] = '2.0'"
   ]
  },
  {
   "cell_type": "code",
   "execution_count": 29,
   "metadata": {},
   "outputs": [],
   "source": [
    "G2.draw(\"test.png\", prog='neato')"
   ]
  },
  {
   "cell_type": "code",
   "execution_count": 13,
   "metadata": {},
   "outputs": [],
   "source": [
    "def select_k(spectrum, minimum_energy = 0.9):\n",
    "    running_total = 0.0\n",
    "    total = sum(spectrum)\n",
    "    if total == 0.0:\n",
    "        return len(spectrum)\n",
    "    for i in range(len(spectrum)):\n",
    "        running_total += spectrum[i]\n",
    "        if running_total / total >= minimum_energy:\n",
    "            return i + 1\n",
    "    return len(spectrum)"
   ]
  },
  {
   "cell_type": "code",
   "execution_count": 33,
   "metadata": {},
   "outputs": [],
   "source": [
    "lap1 = nx.spectrum.laplacian_spectrum(nx.drawing.nx_agraph.from_agraph(G))"
   ]
  },
  {
   "cell_type": "code",
   "execution_count": 34,
   "metadata": {},
   "outputs": [],
   "source": [
    "lap2 = nx.spectrum.laplacian_spectrum(nx.drawing.nx_agraph.from_agraph(G2))"
   ]
  },
  {
   "cell_type": "code",
   "execution_count": 39,
   "metadata": {},
   "outputs": [
    {
     "name": "stdout",
     "output_type": "stream",
     "text": [
      "[  0.00000000e+00   3.92505363e-17   1.00000000e+00   3.00000000e+00]\n",
      "[  3.92505363e-17   1.00000000e+00   3.00000000e+00]\n"
     ]
    }
   ],
   "source": [
    "print(lap1)\n",
    "print(lap2)"
   ]
  },
  {
   "cell_type": "code",
   "execution_count": 40,
   "metadata": {},
   "outputs": [
    {
     "name": "stdout",
     "output_type": "stream",
     "text": [
      "4\n",
      "3\n"
     ]
    }
   ],
   "source": [
    "k1 = select_k(lap1)\n",
    "k2 = select_k(lap2)\n",
    "k = min(k1, k2)\n",
    "\n",
    "print(k1)\n",
    "print(k2)\n",
    "\n",
    "similarity = sum((lap1[:k] - lap1[:k])**2)"
   ]
  },
  {
   "cell_type": "code",
   "execution_count": 38,
   "metadata": {},
   "outputs": [
    {
     "name": "stdout",
     "output_type": "stream",
     "text": [
      "0.0\n"
     ]
    }
   ],
   "source": [
    "print(similarity)"
   ]
  },
  {
   "cell_type": "code",
   "execution_count": null,
   "metadata": {},
   "outputs": [],
   "source": []
  }
 ],
 "metadata": {
  "kernelspec": {
   "display_name": "Python 3",
   "language": "python",
   "name": "python3"
  },
  "language_info": {
   "codemirror_mode": {
    "name": "ipython",
    "version": 3
   },
   "file_extension": ".py",
   "mimetype": "text/x-python",
   "name": "python",
   "nbconvert_exporter": "python",
   "pygments_lexer": "ipython3",
   "version": "3.6.3"
  }
 },
 "nbformat": 4,
 "nbformat_minor": 2
}
